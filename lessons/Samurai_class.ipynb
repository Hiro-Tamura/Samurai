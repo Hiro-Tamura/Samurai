{
  "nbformat": 4,
  "nbformat_minor": 0,
  "metadata": {
    "colab": {
      "provenance": [],
      "authorship_tag": "ABX9TyP4MyRFDCpvoeVyyzKvuUgU",
      "include_colab_link": true
    },
    "kernelspec": {
      "name": "python3",
      "display_name": "Python 3"
    },
    "language_info": {
      "name": "python"
    }
  },
  "cells": [
    {
      "cell_type": "markdown",
      "metadata": {
        "id": "view-in-github",
        "colab_type": "text"
      },
      "source": [
        "<a href=\"https://colab.research.google.com/github/Hiro-Tamura/Samurai/blob/main/lessons/Samurai_class.ipynb\" target=\"_parent\"><img src=\"https://colab.research.google.com/assets/colab-badge.svg\" alt=\"Open In Colab\"/></a>"
      ]
    },
    {
      "cell_type": "markdown",
      "source": [
        "**クラスとは**\n",
        "\n",
        "クラスはあるデータ（オブジェクト）の属性を定義するものである\n",
        "\n",
        "\n",
        "\n",
        "---\n",
        "\n",
        "例）\n",
        "\n",
        "スーパーに売っている商品（オブジェクト）は名前、値段、産地、賞味期限、などの情報（属性）を持っている\n",
        "\n",
        "---\n",
        "\n",
        "\n",
        "\n",
        "オブジェクトの持つ属性をクラスで管理することで、同じ属性を持つ複数のオブジェクトに対して簡単にデータの管理ができる"
      ],
      "metadata": {
        "id": "4n-pbUWA5hHa"
      }
    },
    {
      "cell_type": "code",
      "execution_count": null,
      "metadata": {
        "colab": {
          "base_uri": "https://localhost:8080/"
        },
        "id": "ZKdlGbu2iUVw",
        "outputId": "4d6cbf83-9248-4c60-d86b-3f106d567def"
      },
      "outputs": [
        {
          "output_type": "stream",
          "name": "stdout",
          "text": [
            "product\n",
            "100\n"
          ]
        }
      ],
      "source": [
        "class MyClass:\n",
        "  def __init__(self):\n",
        "    self.name = 'product'\n",
        "    self.price = 100\n",
        "\n",
        "instance = MyClass()\n",
        "print(instance.name)\n",
        "print(instance.price)\n"
      ]
    },
    {
      "cell_type": "markdown",
      "source": [
        "クラスの書きかた\n",
        "\n",
        "class␣クラス名:\n",
        "\n",
        "␣def␣_ _ init _ _(self):\n",
        "\n",
        "␣␣初期設定"
      ],
      "metadata": {
        "id": "R3wWG1NlxA_S"
      }
    },
    {
      "cell_type": "markdown",
      "source": [
        "クラスに属性をつける方法\n",
        "\n",
        "self.(属性の名前) = 属性の値\n",
        "\n",
        "をクラスの中で使うことでオブジェクトに属性を与えることができる"
      ],
      "metadata": {
        "id": "QxRiv9dTxr3h"
      }
    },
    {
      "cell_type": "code",
      "source": [
        "class MyClass:\n",
        "  def __init__(self, name, price):\n",
        "    self.name = name #オブジェクトにnameという属性を与えることができる\n",
        "    self.price = price\n",
        "\n",
        "kyabetsu = MyClass('キャベツ', 100) #オブジェクトを作成\n",
        "kyuuri = MyClass('きゅうり', 60)\n",
        "print(kyabetsu.name) #オブジェクトに与えられているnameという属性を呼び出す\n",
        "print(kyabetsu.price)\n",
        "\n",
        "print(kyuuri.name)\n",
        "print(kyuuri.price)\n"
      ],
      "metadata": {
        "colab": {
          "base_uri": "https://localhost:8080/"
        },
        "id": "cPFN4dVk_Hdq",
        "outputId": "41d28aed-49e8-4a11-9e44-e8a2ba5f8c3d"
      },
      "execution_count": 6,
      "outputs": [
        {
          "output_type": "stream",
          "name": "stdout",
          "text": [
            "キャベツ\n",
            "100\n",
            "きゅうり\n",
            "60\n"
          ]
        }
      ]
    },
    {
      "cell_type": "markdown",
      "source": [
        "**メソッド**\n",
        "\n",
        "クラスが内部で持つことのできる関数"
      ],
      "metadata": {
        "id": "NQIKrrgUzTFw"
      }
    },
    {
      "cell_type": "code",
      "source": [
        "class MyClass:\n",
        "  def __init__(self, name, price):\n",
        "    self.name = name\n",
        "    self.price = price\n",
        "\n",
        "  def calculate_tax(self):\n",
        "    self.price = int(1.05*self.price)\n",
        "    return self.price\n",
        "\n",
        "kyabetsu = MyClass('キャベツ', 100)\n",
        "print(kyabetsu.name)\n",
        "print(kyabetsu.price)\n",
        "\n",
        "print('calculate tax')\n",
        "price = kyabetsu.calculate_tax()#メソッド(関数)の呼び出し\n",
        "print(price)\n",
        "print('kyabetsu.price')\n",
        "print(kyabetsu.price) #kyabetsuについているpriceという属性を呼び出す >>\n",
        "print('calculate tax')\n",
        "price = kyabetsu.calculate_tax()#メソッド(関数)の呼び出し\n",
        "print(price)"
      ],
      "metadata": {
        "colab": {
          "base_uri": "https://localhost:8080/"
        },
        "id": "EFDh9Qii_fOR",
        "outputId": "29ffbddf-7588-4275-b393-6f209d052b6c"
      },
      "execution_count": 11,
      "outputs": [
        {
          "output_type": "stream",
          "name": "stdout",
          "text": [
            "キャベツ\n",
            "100\n",
            "calculate tax\n",
            "105\n",
            "kyabetsu.price\n",
            "105\n",
            "calculate tax\n",
            "110\n"
          ]
        }
      ]
    }
  ]
}