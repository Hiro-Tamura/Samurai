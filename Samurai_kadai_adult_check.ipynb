{
  "nbformat": 4,
  "nbformat_minor": 0,
  "metadata": {
    "colab": {
      "provenance": [],
      "authorship_tag": "ABX9TyPdYy9Dd8o/hRAHigXvoXZ4",
      "include_colab_link": true
    },
    "kernelspec": {
      "name": "python3",
      "display_name": "Python 3"
    },
    "language_info": {
      "name": "python"
    }
  },
  "cells": [
    {
      "cell_type": "markdown",
      "metadata": {
        "id": "view-in-github",
        "colab_type": "text"
      },
      "source": [
        "<a href=\"https://colab.research.google.com/github/Hiro-Tamura/Samurai/blob/main/Samurai_kadai_adult_check.ipynb\" target=\"_parent\"><img src=\"https://colab.research.google.com/assets/colab-badge.svg\" alt=\"Open In Colab\"/></a>"
      ]
    },
    {
      "cell_type": "code",
      "execution_count": 3,
      "metadata": {
        "id": "XdV_1hSO3CXv",
        "colab": {
          "base_uri": "https://localhost:8080/"
        },
        "outputId": "6afd15c6-a861-431e-8843-827fc040823d"
      },
      "outputs": [
        {
          "output_type": "stream",
          "name": "stdout",
          "text": [
            "Alice is NOT an adult\n",
            "Bob is an adult\n",
            "Charlie is NOT an adult\n"
          ]
        }
      ],
      "source": [
        "adult_age = 20\n",
        "\n",
        "class Human():\n",
        "  def __init__(self, name, age):\n",
        "    self.name = name\n",
        "    self.age = age\n",
        "\n",
        "  def adult_check(self):\n",
        "    if self.age>adult_age:\n",
        "      print('{} is an adult'.format(self.name))\n",
        "    else:\n",
        "      print('{} is NOT an adult'.format(self.name))\n",
        "\n",
        "def main():\n",
        "  alice = Human('Alice', 15)\n",
        "  bob = Human('Bob', 22)\n",
        "  charlie = Human('Charlie', 18)\n",
        "  human_list = [alice, bob, charlie]\n",
        "  for human in human_list:\n",
        "    human.adult_check()\n",
        "\n",
        "if __name__=='__main__':\n",
        "  main()"
      ]
    }
  ]
}