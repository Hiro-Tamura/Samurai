{
  "nbformat": 4,
  "nbformat_minor": 0,
  "metadata": {
    "colab": {
      "provenance": [],
      "authorship_tag": "ABX9TyO6nUyzIJDs0svxuSJsp7GB",
      "include_colab_link": true
    },
    "kernelspec": {
      "name": "python3",
      "display_name": "Python 3"
    },
    "language_info": {
      "name": "python"
    }
  },
  "cells": [
    {
      "cell_type": "markdown",
      "metadata": {
        "id": "view-in-github",
        "colab_type": "text"
      },
      "source": [
        "<a href=\"https://colab.research.google.com/github/Hiro-Tamura/Samurai/blob/main/kadai/openpyxl%E3%81%A7%E8%AB%8B%E6%B1%82%E6%9B%B8xlsx%E3%82%92%E4%BD%9C%E6%88%90%E3%81%97%E3%82%88%E3%81%86.ipynb\" target=\"_parent\"><img src=\"https://colab.research.google.com/assets/colab-badge.svg\" alt=\"Open In Colab\"/></a>"
      ]
    },
    {
      "cell_type": "code",
      "execution_count": null,
      "metadata": {
        "colab": {
          "base_uri": "https://localhost:8080/"
        },
        "id": "Z6xO40JFZpxy",
        "outputId": "30bcfbd7-3d2a-479f-ef23-31388cc96ac1"
      },
      "outputs": [
        {
          "output_type": "stream",
          "name": "stdout",
          "text": [
            "None\tNone\tNone\tNone\tNone\tNone\tNone\n",
            "None\t請求書\tNone\tNone\tNone\tNone\tNone\n",
            "None\tNone\tNone\tNone\tNone\tNone\tNone\n",
            "None\t株式会社ABC\t\t\t\tNo.\t0001\n",
            "None\t101-0022東京都千代田区神田練塀町300\t\t\t\t日付\t2024/04/20\n",
            "None\tTEL:03-1234-5678 FAX:03-1234-5678\tNone\tNone\tNone\tNone\tNone\n",
            "None\t担当者名:鈴木一郎 様\tNone\tNone\tNone\tNone\tNone\n",
            "None\tNone\tNone\tNone\tNone\tNone\tNone\n",
            "None\tNone\tNone\tNone\tNone\tNone\tNone\n",
            "None\t商品名\t数量\t単価\t金額\tNone\tNone\n",
            "None\t商品B\t2\t10000\t20000\tNone\tNone\n",
            "None\t商品C\t1\t15000\t15000\tNone\tNone\n",
            "None\tNone\tNone\tNone\tNone\tNone\tNone\n",
            "None\t合計\t\t\t35000\tNone\tNone\n",
            "None\t消費税\t\t\t3500.0\tNone\tNone\n",
            "None\t税込価格\t\t\t38500.0\tNone\tNone\n"
          ]
        }
      ],
      "source": [
        "import openpyxl\n",
        "from openpyxl.styles import Border, Side\n",
        "\n",
        "import datetime\n",
        "\n",
        "workbook = openpyxl.Workbook()\n",
        "sheet = workbook.active\n",
        "\n",
        "title = ['請求書']\n",
        "\n",
        "data = [\n",
        "    ['株式会社ABC'],\n",
        "    ['101-0022東京都千代田区神田練塀町300'],\n",
        "    ['TEL:03-1234-5678 FAX:03-1234-5678'],\n",
        "    ['担当者名:鈴木一郎 様']\n",
        "]\n",
        "\n",
        "\n",
        "\n",
        "header = ['商品名','数量','単価','金額']\n",
        "class Product():\n",
        "  def __init__(self, i, num, price):\n",
        "    self.name = '商品{}'.format(chr(65+i))\n",
        "    self.num = num\n",
        "    self.price = price\n",
        "    self.total = num*price\n",
        "\n",
        "  def get_data(self):\n",
        "    return [self.name, self.num, self.price, self.total]\n",
        "\n",
        "products = [\n",
        "    Product(1,2,10000),\n",
        "    Product(2,1,15000),\n",
        "]\n",
        "total = 0\n",
        "for product in products:\n",
        "  total+=product.total\n",
        "\n",
        "summary = []\n",
        "def price2row(content, data):\n",
        "  row = ['']*len(header)\n",
        "  row[0] = content\n",
        "  row[-1] = data\n",
        "  return row\n",
        "\n",
        "tax = total*0.1\n",
        "total_with_tax = total+tax\n",
        "total_row = price2row('合計', total)\n",
        "tax_row = price2row('消費税', tax)\n",
        "total_with_tax_row = price2row('税込価格', total_with_tax)\n",
        "summary.append(total_row)\n",
        "summary.append(tax_row)\n",
        "summary.append(total_with_tax_row)\n",
        "\n",
        "now = datetime.datetime.now()\n",
        "date = now.date().strftime('%Y/%m/%d')\n",
        "document_info = [\n",
        "    ['No.', '0001'],\n",
        "    ['日付', date]\n",
        "]\n",
        "\n",
        "sheet.append([])\n",
        "sheet.append(title)\n",
        "sheet.append([])\n",
        "for i, info in enumerate(data):\n",
        "  if i<len(document_info):\n",
        "    info = info + ['']*(len(header)-1) + document_info[i]\n",
        "  sheet.append(info)\n",
        "sheet.append([])\n",
        "sheet.append([])\n",
        "sheet.append(header)\n",
        "for product in products:\n",
        "  sheet.append(product.get_data())\n",
        "sheet.append([])\n",
        "for info in summary:\n",
        "  sheet.append(info)\n",
        "\n",
        "sheet.insert_cols(0)\n",
        "\n",
        "def show_sheet(sheet):\n",
        "  for row in sheet.iter_rows(values_only=True):\n",
        "      print(\"\\t\".join(str(cell) for cell in row))\n",
        "show_sheet(sheet)\n",
        "\n",
        "workbook.save('sample.xlsx')"
      ]
    }
  ]
}