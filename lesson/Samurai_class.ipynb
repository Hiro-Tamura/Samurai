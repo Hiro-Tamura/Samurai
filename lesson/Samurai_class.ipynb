{
  "nbformat": 4,
  "nbformat_minor": 0,
  "metadata": {
    "colab": {
      "provenance": [],
      "authorship_tag": "ABX9TyNItGtGCteTBEGcZypPLBl4",
      "include_colab_link": true
    },
    "kernelspec": {
      "name": "python3",
      "display_name": "Python 3"
    },
    "language_info": {
      "name": "python"
    }
  },
  "cells": [
    {
      "cell_type": "markdown",
      "metadata": {
        "id": "view-in-github",
        "colab_type": "text"
      },
      "source": [
        "<a href=\"https://colab.research.google.com/github/Hiro-Tamura/Samurai/blob/main/lesson/Samurai_class.ipynb\" target=\"_parent\"><img src=\"https://colab.research.google.com/assets/colab-badge.svg\" alt=\"Open In Colab\"/></a>"
      ]
    },
    {
      "cell_type": "markdown",
      "source": [
        "**クラスとは**\n",
        "\n",
        "クラスはあるデータ（オブジェクト）の属性を定義するものである\n",
        "\n",
        "\n",
        "\n",
        "---\n",
        "\n",
        "例）\n",
        "\n",
        "スーパーに売っている商品（オブジェクト）は値段、産地、賞味期限、などの情報（属性）を持っている\n",
        "\n",
        "---\n",
        "\n",
        "\n",
        "\n",
        "オブジェクトの持つ属性をクラスで管理することで、同じ属性を持つ複数のオブジェクトに対して簡単にデータの管理ができる"
      ],
      "metadata": {
        "id": "4n-pbUWA5hHa"
      }
    },
    {
      "cell_type": "code",
      "execution_count": 1,
      "metadata": {
        "colab": {
          "base_uri": "https://localhost:8080/"
        },
        "id": "ZKdlGbu2iUVw",
        "outputId": "4d6cbf83-9248-4c60-d86b-3f106d567def"
      },
      "outputs": [
        {
          "output_type": "stream",
          "name": "stdout",
          "text": [
            "product\n",
            "100\n"
          ]
        }
      ],
      "source": [
        "class MyClass:\n",
        "  def __init__(self):\n",
        "    self.name = 'product'\n",
        "    self.price = 100\n",
        "\n",
        "instance = MyClass()\n",
        "print(instance.name)\n",
        "print(instance.price)\n"
      ]
    },
    {
      "cell_type": "code",
      "source": [
        "class MyClass:\n",
        "  def __init__(self, name, price):\n",
        "    self.name = name\n",
        "    self.price = price\n",
        "\n",
        "instance = MyClass('キャベツ', 100)\n",
        "print(instance.name)\n",
        "print(instance.price)\n"
      ],
      "metadata": {
        "colab": {
          "base_uri": "https://localhost:8080/"
        },
        "id": "cPFN4dVk_Hdq",
        "outputId": "de4c1c0c-d3fd-4108-ec3f-a0f361e66eb0"
      },
      "execution_count": 2,
      "outputs": [
        {
          "output_type": "stream",
          "name": "stdout",
          "text": [
            "キャベツ\n",
            "100\n"
          ]
        }
      ]
    },
    {
      "cell_type": "code",
      "source": [
        "class MyClass:\n",
        "  def __init__(self, name, price):\n",
        "    self.name = name\n",
        "    self.price = price\n",
        "\n",
        "  def calculate_tax(self):\n",
        "    self.price = 1.05*self.price\n",
        "\n",
        "instance = MyClass('キャベツ', 100)\n",
        "print(instance.name)\n",
        "print(instance.price)\n",
        "\n",
        "print('calculate tax')\n",
        "instance.calculate_tax()\n",
        "print(instance.price)"
      ],
      "metadata": {
        "colab": {
          "base_uri": "https://localhost:8080/"
        },
        "id": "EFDh9Qii_fOR",
        "outputId": "3d80c58c-36ed-4f88-f96d-0088834d3cc6"
      },
      "execution_count": 4,
      "outputs": [
        {
          "output_type": "stream",
          "name": "stdout",
          "text": [
            "キャベツ\n",
            "100\n",
            "calculate tax\n",
            "105.0\n"
          ]
        }
      ]
    }
  ]
}