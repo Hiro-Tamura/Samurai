{
  "nbformat": 4,
  "nbformat_minor": 0,
  "metadata": {
    "colab": {
      "provenance": [],
      "authorship_tag": "ABX9TyPAHNjNQlUPMxqMFf0H/LuU",
      "include_colab_link": true
    },
    "kernelspec": {
      "name": "python3",
      "display_name": "Python 3"
    },
    "language_info": {
      "name": "python"
    }
  },
  "cells": [
    {
      "cell_type": "markdown",
      "metadata": {
        "id": "view-in-github",
        "colab_type": "text"
      },
      "source": [
        "<a href=\"https://colab.research.google.com/github/Hiro-Tamura/Samurai/blob/main/lesson/20240516.ipynb\" target=\"_parent\"><img src=\"https://colab.research.google.com/assets/colab-badge.svg\" alt=\"Open In Colab\"/></a>"
      ]
    },
    {
      "cell_type": "code",
      "source": [
        "price = 1234567\n",
        "tax = price*0.03\n",
        "total = price+tax\n",
        "print(total)"
      ],
      "metadata": {
        "colab": {
          "base_uri": "https://localhost:8080/"
        },
        "id": "1GVdJOOlCFbN",
        "outputId": "98834542-9a18-4b0c-97a4-18b206bb2233"
      },
      "execution_count": 6,
      "outputs": [
        {
          "output_type": "stream",
          "name": "stdout",
          "text": [
            "1271604.01\n"
          ]
        }
      ]
    },
    {
      "cell_type": "code",
      "source": [
        "one = 1\n",
        "one_str = \"1\"\n",
        "print(one*2)\n",
        "print(one_str*2)"
      ],
      "metadata": {
        "colab": {
          "base_uri": "https://localhost:8080/"
        },
        "id": "nsDJs_tuDi3O",
        "outputId": "2bf917f5-d324-4c4b-f874-90fe6c1a4b0d"
      },
      "execution_count": 8,
      "outputs": [
        {
          "output_type": "stream",
          "name": "stdout",
          "text": [
            "2\n",
            "11\n"
          ]
        }
      ]
    },
    {
      "cell_type": "markdown",
      "source": [
        "one はint型(integer:整数)\n",
        "one_strはstr型(string:文字)\n",
        "float\n",
        "list\n",
        "dict\n",
        "tupple\n",
        "None (null)\n",
        "**np.array\n",
        "**torch.tensor"
      ],
      "metadata": {
        "id": "GRfb_Ai3D40-"
      }
    },
    {
      "cell_type": "markdown",
      "source": [
        "bool型(boolian:)\n",
        "TrueかFalse"
      ],
      "metadata": {
        "id": "aRBgN9sOEPTO"
      }
    },
    {
      "cell_type": "code",
      "source": [
        "one = 1\n",
        "print(one==1)\n",
        "print(one!=1)"
      ],
      "metadata": {
        "colab": {
          "base_uri": "https://localhost:8080/"
        },
        "id": "q4Yl_Ba_EW8U",
        "outputId": "552b3286-1264-4b4d-e5a7-075dfacaa207"
      },
      "execution_count": 11,
      "outputs": [
        {
          "output_type": "stream",
          "name": "stdout",
          "text": [
            "True\n",
            "False\n"
          ]
        }
      ]
    },
    {
      "cell_type": "markdown",
      "source": [
        "比較演算子\n",
        "==,!=,>,>=,<,=<"
      ],
      "metadata": {
        "id": "AutmKYJxEnJ9"
      }
    },
    {
      "cell_type": "markdown",
      "source": [
        "if文\n",
        "ある条件を満たすとき実行、満たさないときスキップ"
      ],
      "metadata": {
        "id": "zxm_X2JMFCLq"
      }
    },
    {
      "cell_type": "code",
      "source": [
        "one = 1\n",
        "if one==2:\n",
        "  print('!!')#インデントが下がる\n",
        "elif one==1:\n",
        "  print('!?')\n",
        "elif one>0:\n",
        "  print('??')\n",
        "else:\n",
        "  print('!!!!!!!!!!!!!!!!')\n",
        "print('@@')"
      ],
      "metadata": {
        "colab": {
          "base_uri": "https://localhost:8080/"
        },
        "id": "gs7TdvbyE-Y3",
        "outputId": "3c9bf51f-5ba0-400d-a1b0-a32fedb1eb25"
      },
      "execution_count": 27,
      "outputs": [
        {
          "output_type": "stream",
          "name": "stdout",
          "text": [
            "!?\n",
            "@@\n"
          ]
        }
      ]
    },
    {
      "cell_type": "markdown",
      "source": [
        "if文覚えてほしいこと\n",
        "if文の書き方\n",
        "\n",
        "if ○○:\n",
        "  インデントを下げる\n",
        "elif ××:\n",
        "  インデントを下げる\n",
        "else:\n",
        "  インデントを下げる\n",
        "\n",
        "○○,××の中はbool型"
      ],
      "metadata": {
        "id": "jsxBJky7F8lX"
      }
    },
    {
      "cell_type": "code",
      "source": [
        "array = [0,1,2]\n",
        "\n",
        "print('for文')\n",
        "for i in array:\n",
        "  print(i*2)\n",
        "  \"\"\"\n",
        "  for文は　for _ in list: の形で記述される\n",
        "    listの中の先頭から_として呼び出される。\n",
        "  forの下の処理が実行される\n",
        "  listの中身がなくなるかbreakされたら終了\n",
        "  \"\"\"\n",
        "\n",
        "print('while文')\n",
        "i = 0\n",
        "while i<2:\n",
        "  print(array[i]*3)\n",
        "  i+=1\n",
        "  \"\"\"\n",
        "  while文は while bool:の形で記述される。\n",
        "    boolはbool型のデータで、TrueかFalseのどちらか。\n",
        "    boolには比較演算子が使われることがある。\n",
        "  whileの下の処理が実行される\n",
        "  boolがFalseになるかbreakされたら終了\n",
        "  \"\"\""
      ],
      "metadata": {
        "colab": {
          "base_uri": "https://localhost:8080/"
        },
        "id": "3WIgkSExyJvm",
        "outputId": "d2e21f97-bd60-4ac9-b5cf-d5a80c992ccf"
      },
      "execution_count": 16,
      "outputs": [
        {
          "output_type": "stream",
          "name": "stdout",
          "text": [
            "for文\n",
            "0\n",
            "2\n",
            "4\n",
            "while文\n",
            "0\n",
            "3\n"
          ]
        }
      ]
    }
  ]
}