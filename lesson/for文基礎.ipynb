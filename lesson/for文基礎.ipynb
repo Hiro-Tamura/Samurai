{
  "nbformat": 4,
  "nbformat_minor": 0,
  "metadata": {
    "colab": {
      "provenance": [],
      "authorship_tag": "ABX9TyNHXW2fUVBwoInZdRPmEkos",
      "include_colab_link": true
    },
    "kernelspec": {
      "name": "python3",
      "display_name": "Python 3"
    },
    "language_info": {
      "name": "python"
    }
  },
  "cells": [
    {
      "cell_type": "markdown",
      "metadata": {
        "id": "view-in-github",
        "colab_type": "text"
      },
      "source": [
        "<a href=\"https://colab.research.google.com/github/Hiro-Tamura/Samurai/blob/main/lesson/for%E6%96%87%E5%9F%BA%E7%A4%8E.ipynb\" target=\"_parent\"><img src=\"https://colab.research.google.com/assets/colab-badge.svg\" alt=\"Open In Colab\"/></a>"
      ]
    },
    {
      "cell_type": "markdown",
      "source": [
        "list型のデータ"
      ],
      "metadata": {
        "id": "jTtf89VI7Ulw"
      }
    },
    {
      "cell_type": "markdown",
      "source": [
        "複数のデータを入れた箱、ケース、リストのようなもの。リストの中に入れるデータはどんなデータ型でもよい。混ざっていてもよい。"
      ],
      "metadata": {
        "id": "pIPV70le7tAw"
      }
    },
    {
      "cell_type": "markdown",
      "source": [
        "書き方： [] の中にデータを入れる。データ同士は\",(カンマ)\"で区切る"
      ],
      "metadata": {
        "id": "pQLo2ob28ILQ"
      }
    },
    {
      "cell_type": "markdown",
      "source": [
        "データの取り出し方：list[i]でi番目のデータが取り出せる。"
      ],
      "metadata": {
        "id": "HOFBYH978-Ca"
      }
    },
    {
      "cell_type": "markdown",
      "source": [
        "  list[i:j]でi~j番目のデータを全て取り出せる。"
      ],
      "metadata": {
        "id": "aSV4-RjJ8_gv"
      }
    },
    {
      "cell_type": "code",
      "execution_count": 11,
      "metadata": {
        "colab": {
          "base_uri": "https://localhost:8080/"
        },
        "id": "zyz4vXy213hh",
        "outputId": "07a50ce7-60b2-4cfe-e271-032551f82bad"
      },
      "outputs": [
        {
          "output_type": "stream",
          "name": "stdout",
          "text": [
            "1\n"
          ]
        }
      ],
      "source": [
        "x_list = [1,2,3,4,5]\n",
        "##print(x_list)\n",
        "print(x_list[0])"
      ]
    },
    {
      "cell_type": "markdown",
      "source": [
        "for文"
      ],
      "metadata": {
        "id": "Lgkn4FIp9dyg"
      }
    },
    {
      "cell_type": "markdown",
      "source": [
        "繰り返し処理。同じ処理を繰り返す。"
      ],
      "metadata": {
        "id": "R1VJ-zDV9f9Y"
      }
    },
    {
      "cell_type": "code",
      "source": [
        "print(1*3)\n",
        "print(2*3)\n",
        "print(3*3)\n",
        "print(4*3)\n",
        "print(5*3)"
      ],
      "metadata": {
        "colab": {
          "base_uri": "https://localhost:8080/"
        },
        "id": "yMlSXY9D9bOI",
        "outputId": "ab61ae24-ed10-49fd-f85e-ee1a918d96db"
      },
      "execution_count": 12,
      "outputs": [
        {
          "output_type": "stream",
          "name": "stdout",
          "text": [
            "3\n",
            "6\n",
            "9\n",
            "12\n",
            "15\n"
          ]
        }
      ]
    },
    {
      "cell_type": "code",
      "source": [
        "print(x_list[-1::-1])\n",
        "for i in x_list[-1::-1]:\n",
        "  print(i*3)"
      ],
      "metadata": {
        "colab": {
          "base_uri": "https://localhost:8080/"
        },
        "id": "W_Wgy4gE943H",
        "outputId": "ebc7a048-27d5-409e-92f7-25c16b9e50ad"
      },
      "execution_count": 23,
      "outputs": [
        {
          "output_type": "stream",
          "name": "stdout",
          "text": [
            "[5, 4, 3, 2, 1]\n",
            "15\n",
            "12\n",
            "9\n",
            "6\n",
            "3\n"
          ]
        }
      ]
    },
    {
      "cell_type": "markdown",
      "source": [
        "for文の書き方\n",
        "\n",
        "*   for 〇 in ×:\n",
        "** 〇は新しい定数\n",
        "** ×は既存のlistデータ\n",
        "** :を忘れない\n",
        "** インデントを下げる\n",
        "\n"
      ],
      "metadata": {
        "id": "zlKdWfhM-Bsn"
      }
    },
    {
      "cell_type": "code",
      "source": [
        "print(x_list[0])\n",
        "print(x_list[1])\n",
        "print(x_list[2])\n",
        "print(x_list[3])\n",
        "print(x_list[4])"
      ],
      "metadata": {
        "colab": {
          "base_uri": "https://localhost:8080/"
        },
        "id": "V3ic5k6G-jsQ",
        "outputId": "e113f65a-6d39-4477-be66-1c17520f8dc4"
      },
      "execution_count": 24,
      "outputs": [
        {
          "output_type": "stream",
          "name": "stdout",
          "text": [
            "1\n",
            "2\n",
            "3\n",
            "4\n",
            "5\n"
          ]
        }
      ]
    },
    {
      "cell_type": "code",
      "source": [
        "y_list = [1,46,7,8,9,5,41,5]\n",
        "for y in y_list:\n",
        "  print(y)"
      ],
      "metadata": {
        "colab": {
          "base_uri": "https://localhost:8080/"
        },
        "id": "XPLV4Ja9_j2Z",
        "outputId": "e15c09fa-9e53-46f9-c914-5638df8ed538"
      },
      "execution_count": 37,
      "outputs": [
        {
          "output_type": "stream",
          "name": "stdout",
          "text": [
            "1\n",
            "46\n",
            "7\n",
            "8\n",
            "9\n",
            "5\n",
            "41\n",
            "5\n"
          ]
        }
      ]
    },
    {
      "cell_type": "markdown",
      "source": [
        "len()関数\n",
        "\n",
        "\n",
        "*   リストの長さ(リストの中のデータの数)を調べる\n",
        "\n"
      ],
      "metadata": {
        "id": "LKfFtkjR_-1q"
      }
    },
    {
      "cell_type": "code",
      "source": [
        "len_y = len(y_list)\n",
        "print(len_y)"
      ],
      "metadata": {
        "colab": {
          "base_uri": "https://localhost:8080/"
        },
        "id": "glYf0gnrAFi0",
        "outputId": "0c5fd6b4-e2b4-4741-c6fc-66e63eea632d"
      },
      "execution_count": 28,
      "outputs": [
        {
          "output_type": "stream",
          "name": "stdout",
          "text": [
            "8\n"
          ]
        }
      ]
    },
    {
      "cell_type": "markdown",
      "source": [
        "range(i)0からiまでの整数のリスト（実際にはリストではない）"
      ],
      "metadata": {
        "id": "QIjvXmtZAeJQ"
      }
    },
    {
      "cell_type": "code",
      "source": [
        "range5 = range(3)\n",
        "print(range5)\n",
        "for i in range5:\n",
        "  print(i)"
      ],
      "metadata": {
        "colab": {
          "base_uri": "https://localhost:8080/"
        },
        "id": "FUYilxtpAdno",
        "outputId": "27848fc2-cb3a-4c8c-8868-bddedbb5eaae"
      },
      "execution_count": 36,
      "outputs": [
        {
          "output_type": "stream",
          "name": "stdout",
          "text": [
            "range(0, 3)\n",
            "0\n",
            "1\n",
            "2\n"
          ]
        }
      ]
    },
    {
      "cell_type": "code",
      "source": [
        "z_list = [13,45,97,41,354,1]\n",
        "zz_list= [15,71,31,12,58,23]\n",
        "for i in range(len(z_list)):#len(z_list)=6, range(6)=[0,1,2,3,4,5]\n",
        "  print(z_list[i]+zz_list[i])"
      ],
      "metadata": {
        "colab": {
          "base_uri": "https://localhost:8080/"
        },
        "id": "nlp8HJFWAwkx",
        "outputId": "00ed23eb-964d-4934-f859-8bc55547afc1"
      },
      "execution_count": 38,
      "outputs": [
        {
          "output_type": "stream",
          "name": "stdout",
          "text": [
            "28\n",
            "116\n",
            "128\n",
            "53\n",
            "412\n",
            "24\n"
          ]
        }
      ]
    }
  ]
}