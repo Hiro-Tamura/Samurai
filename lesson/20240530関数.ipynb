{
  "nbformat": 4,
  "nbformat_minor": 0,
  "metadata": {
    "colab": {
      "provenance": [],
      "authorship_tag": "ABX9TyOFveO5AhBBbSfsn7ROtsHS",
      "include_colab_link": true
    },
    "kernelspec": {
      "name": "python3",
      "display_name": "Python 3"
    },
    "language_info": {
      "name": "python"
    }
  },
  "cells": [
    {
      "cell_type": "markdown",
      "metadata": {
        "id": "view-in-github",
        "colab_type": "text"
      },
      "source": [
        "<a href=\"https://colab.research.google.com/github/Hiro-Tamura/Samurai/blob/main/lesson/20240530%E9%96%A2%E6%95%B0.ipynb\" target=\"_parent\"><img src=\"https://colab.research.google.com/assets/colab-badge.svg\" alt=\"Open In Colab\"/></a>"
      ]
    },
    {
      "cell_type": "markdown",
      "source": [
        "関数"
      ],
      "metadata": {
        "id": "hniAORKKKrBu"
      }
    },
    {
      "cell_type": "markdown",
      "source": [
        "（入力を受けて）決まった処理をするもの。何度も同じ処理をしたいときに役立つ"
      ],
      "metadata": {
        "id": "24LJwjf3Kxqk"
      }
    },
    {
      "cell_type": "code",
      "execution_count": 31,
      "metadata": {
        "colab": {
          "base_uri": "https://localhost:8080/"
        },
        "id": "9M2S9u-AKpbG",
        "outputId": "b402f9ff-5c5a-4c14-c478-82b734aace13"
      },
      "outputs": [
        {
          "output_type": "stream",
          "name": "stdout",
          "text": [
            "total price is 110 yen\n",
            "total price is 804 yen\n"
          ]
        }
      ],
      "source": [
        "def func(price, tax):#関数を定義\n",
        "  if tax>1:\n",
        "    tax_rate = tax*0.01\n",
        "  else:\n",
        "    tax_rate = tax\n",
        "  total = int(price*(1+tax_rate))\n",
        "  print('total price is {} yen'.format(total))\n",
        "  return total\n",
        "\n",
        "price = func(100, 10)#関数を実行\n",
        "price = func(700, 0.15)"
      ]
    },
    {
      "cell_type": "markdown",
      "source": [
        "書き方"
      ],
      "metadata": {
        "id": "tc-YtpHhLCwL"
      }
    },
    {
      "cell_type": "markdown",
      "source": [
        "def 関数名(引数（複数でも可）):\n",
        "\n",
        "*   インデントを下げて所望の処理を書く\n",
        "\n"
      ],
      "metadata": {
        "id": "7TpNH1NSLEJd"
      }
    },
    {
      "cell_type": "markdown",
      "source": [
        "実行するときは関数名()で呼び出す"
      ],
      "metadata": {
        "id": "7bvoTFfMLaDk"
      }
    },
    {
      "cell_type": "markdown",
      "source": [
        "関数が出力するときはreturnを使う"
      ],
      "metadata": {
        "id": "_WrD-GssPCtu"
      }
    },
    {
      "cell_type": "code",
      "source": [
        "def func2(name, price):\n",
        "  price = func(price, 5)\n",
        "  print('price of {} is {} yen'.format(name, price))\n",
        "\n",
        "func2('キャベツ', 199)"
      ],
      "metadata": {
        "colab": {
          "base_uri": "https://localhost:8080/"
        },
        "id": "mXMOTSIuOGHv",
        "outputId": "955ed701-9149-4c27-fd23-3e52f2210916"
      },
      "execution_count": 32,
      "outputs": [
        {
          "output_type": "stream",
          "name": "stdout",
          "text": [
            "total price is 208 yen\n",
            "price of キャベツ is 208 yen\n"
          ]
        }
      ]
    },
    {
      "cell_type": "code",
      "source": [
        "x = 10\n",
        "x = x + 1\n",
        "print(x)"
      ],
      "metadata": {
        "colab": {
          "base_uri": "https://localhost:8080/"
        },
        "id": "sshMqrv4PKuw",
        "outputId": "637b4a63-c1d1-49fa-b98f-78d9026dece1"
      },
      "execution_count": 24,
      "outputs": [
        {
          "output_type": "stream",
          "name": "stdout",
          "text": [
            "11\n"
          ]
        }
      ]
    },
    {
      "cell_type": "markdown",
      "source": [
        "プログラミングにおける\"=\"は等式ではなく代入（置き換え）"
      ],
      "metadata": {
        "id": "nSokrjFmPTSN"
      }
    }
  ]
}