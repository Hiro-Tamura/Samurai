{
  "nbformat": 4,
  "nbformat_minor": 0,
  "metadata": {
    "colab": {
      "provenance": [],
      "authorship_tag": "ABX9TyMz/d1EHe7ZAQlAq2X2d5lE",
      "include_colab_link": true
    },
    "kernelspec": {
      "name": "python3",
      "display_name": "Python 3"
    },
    "language_info": {
      "name": "python"
    }
  },
  "cells": [
    {
      "cell_type": "markdown",
      "metadata": {
        "id": "view-in-github",
        "colab_type": "text"
      },
      "source": [
        "<a href=\"https://colab.research.google.com/github/Hiro-Tamura/Samurai/blob/main/lesson/Samurai_func.ipynb\" target=\"_parent\"><img src=\"https://colab.research.google.com/assets/colab-badge.svg\" alt=\"Open In Colab\"/></a>"
      ]
    },
    {
      "cell_type": "markdown",
      "source": [
        "関数"
      ],
      "metadata": {
        "id": "hniAORKKKrBu"
      }
    },
    {
      "cell_type": "markdown",
      "source": [
        "（入力を受けて）決まった処理をするもの。何度も同じ処理をしたいときに役立つ"
      ],
      "metadata": {
        "id": "24LJwjf3Kxqk"
      }
    },
    {
      "cell_type": "code",
      "execution_count": null,
      "metadata": {
        "id": "9M2S9u-AKpbG",
        "colab": {
          "base_uri": "https://localhost:8080/"
        },
        "outputId": "a157b3f2-55e8-410a-a0b6-f296036bebd1"
      },
      "outputs": [
        {
          "output_type": "stream",
          "name": "stdout",
          "text": [
            "110\n",
            "735\n"
          ]
        }
      ],
      "source": [
        "#価格に税金を加えたものを出力する\n",
        "def func(price, tax=5):#関数を定義\n",
        "  if tax>1:\n",
        "    tax_rate = tax*0.01\n",
        "  else:\n",
        "    tax_rate = tax\n",
        "  total = int(price*(1+tax_rate))#int()でデータを整数にする\n",
        "  return total\n",
        "\n",
        "price = func(100, tax=10)#関数を実行\n",
        "print(price)\n",
        "price = func(price=700)\n",
        "print(price)"
      ]
    },
    {
      "cell_type": "markdown",
      "source": [
        "書き方"
      ],
      "metadata": {
        "id": "tc-YtpHhLCwL"
      }
    },
    {
      "cell_type": "markdown",
      "source": [
        "def 関数名(引数（複数でも可）):\n",
        "\n",
        "  インデントを下げて所望の処理を書く\n",
        "\n"
      ],
      "metadata": {
        "id": "7TpNH1NSLEJd"
      }
    },
    {
      "cell_type": "markdown",
      "source": [
        "実行するときは関数名()で呼び出す"
      ],
      "metadata": {
        "id": "7bvoTFfMLaDk"
      }
    },
    {
      "cell_type": "markdown",
      "source": [
        "関数が出力するときはreturnを使う"
      ],
      "metadata": {
        "id": "_WrD-GssPCtu"
      }
    },
    {
      "cell_type": "code",
      "source": [
        "def func2(name, price):\n",
        "  price = func(price)\n",
        "  print('price of {} is {} yen'.format(name, price))\n",
        "\n",
        "func2('キャベツ', 199)"
      ],
      "metadata": {
        "colab": {
          "base_uri": "https://localhost:8080/"
        },
        "id": "mXMOTSIuOGHv",
        "outputId": "4de73901-0ccd-4885-f677-64d69eb54628"
      },
      "execution_count": null,
      "outputs": [
        {
          "output_type": "stream",
          "name": "stdout",
          "text": [
            "price of キャベツ is 208 yen\n"
          ]
        }
      ]
    },
    {
      "cell_type": "code",
      "source": [
        "products = [['キャベツ',99],['ぶたこま',500],['きゅうり',100]]\n",
        "for product, price in products:\n",
        "  func2(name=product, price=price)"
      ],
      "metadata": {
        "colab": {
          "base_uri": "https://localhost:8080/"
        },
        "id": "JHE8VYl4RKUq",
        "outputId": "89ce56dd-90b0-46ea-fa59-e22dc0f41001"
      },
      "execution_count": null,
      "outputs": [
        {
          "output_type": "stream",
          "name": "stdout",
          "text": [
            "price of キャベツ is 103 yen\n",
            "price of ぶたこま is 525 yen\n",
            "price of きゅうり is 105 yen\n"
          ]
        }
      ]
    },
    {
      "cell_type": "code",
      "source": [
        "x = 10\n",
        "x = x + 1\n",
        "print(x)"
      ],
      "metadata": {
        "colab": {
          "base_uri": "https://localhost:8080/"
        },
        "id": "sshMqrv4PKuw",
        "outputId": "637b4a63-c1d1-49fa-b98f-78d9026dece1"
      },
      "execution_count": null,
      "outputs": [
        {
          "output_type": "stream",
          "name": "stdout",
          "text": [
            "11\n"
          ]
        }
      ]
    },
    {
      "cell_type": "markdown",
      "source": [
        "プログラミングにおける\"=\"は等式ではなく代入（置き換え）"
      ],
      "metadata": {
        "id": "nSokrjFmPTSN"
      }
    }
  ]
}